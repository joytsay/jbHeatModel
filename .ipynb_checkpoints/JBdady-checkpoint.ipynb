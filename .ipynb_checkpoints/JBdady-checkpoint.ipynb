{
 "cells": [
  {
   "cell_type": "code",
   "execution_count": 1,
   "metadata": {},
   "outputs": [
    {
     "ename": "ImportError",
     "evalue": "Missing required dependencies ['numpy']",
     "output_type": "error",
     "traceback": [
      "\u001b[1;31m---------------------------------------------------------------------------\u001b[0m",
      "\u001b[1;31mImportError\u001b[0m                               Traceback (most recent call last)",
      "\u001b[1;32m<ipython-input-1-5d2b2582fccd>\u001b[0m in \u001b[0;36m<module>\u001b[1;34m\u001b[0m\n\u001b[0;32m      1\u001b[0m \u001b[0mget_ipython\u001b[0m\u001b[1;33m(\u001b[0m\u001b[1;33m)\u001b[0m\u001b[1;33m.\u001b[0m\u001b[0mrun_line_magic\u001b[0m\u001b[1;33m(\u001b[0m\u001b[1;34m'config'\u001b[0m\u001b[1;33m,\u001b[0m \u001b[1;34m'IPCompleter.greedy=True'\u001b[0m\u001b[1;33m)\u001b[0m\u001b[1;33m\u001b[0m\u001b[1;33m\u001b[0m\u001b[0m\n\u001b[1;32m----> 2\u001b[1;33m \u001b[1;32mimport\u001b[0m \u001b[0mpandas\u001b[0m \u001b[1;32mas\u001b[0m \u001b[0mpd\u001b[0m\u001b[1;33m\u001b[0m\u001b[1;33m\u001b[0m\u001b[0m\n\u001b[0m\u001b[0;32m      3\u001b[0m \u001b[1;32mimport\u001b[0m \u001b[0mnumpy\u001b[0m \u001b[1;32mas\u001b[0m \u001b[0mnp\u001b[0m\u001b[1;33m\u001b[0m\u001b[1;33m\u001b[0m\u001b[0m\n\u001b[0;32m      4\u001b[0m \u001b[1;32mimport\u001b[0m \u001b[0mhashlib\u001b[0m\u001b[1;33m\u001b[0m\u001b[1;33m\u001b[0m\u001b[0m\n",
      "\u001b[1;32m~\\AppData\\Local\\Programs\\Python\\Python36\\Lib\\site-packages\\pandas\\__init__.py\u001b[0m in \u001b[0;36m<module>\u001b[1;34m\u001b[0m\n\u001b[0;32m     17\u001b[0m \u001b[1;32mif\u001b[0m \u001b[0mmissing_dependencies\u001b[0m\u001b[1;33m:\u001b[0m\u001b[1;33m\u001b[0m\u001b[1;33m\u001b[0m\u001b[0m\n\u001b[0;32m     18\u001b[0m     raise ImportError(\n\u001b[1;32m---> 19\u001b[1;33m         \"Missing required dependencies {0}\".format(missing_dependencies))\n\u001b[0m\u001b[0;32m     20\u001b[0m \u001b[1;32mdel\u001b[0m \u001b[0mhard_dependencies\u001b[0m\u001b[1;33m,\u001b[0m \u001b[0mdependency\u001b[0m\u001b[1;33m,\u001b[0m \u001b[0mmissing_dependencies\u001b[0m\u001b[1;33m\u001b[0m\u001b[1;33m\u001b[0m\u001b[0m\n\u001b[0;32m     21\u001b[0m \u001b[1;33m\u001b[0m\u001b[0m\n",
      "\u001b[1;31mImportError\u001b[0m: Missing required dependencies ['numpy']"
     ]
    }
   ],
   "source": [
    "%config IPCompleter.greedy=True\n",
    "import pandas as pd\n",
    "import numpy as np\n",
    "import hashlib"
   ]
  },
  {
   "cell_type": "code",
   "execution_count": 4,
   "metadata": {},
   "outputs": [],
   "source": [
    "def load_benchmark_data():\n",
    "    return pd.read_csv(\"C:/Users/joyts/Desktop/test.csv\")"
   ]
  },
  {
   "cell_type": "code",
   "execution_count": 5,
   "metadata": {},
   "outputs": [
    {
     "data": {
      "text/html": [
       "<div>\n",
       "<style scoped>\n",
       "    .dataframe tbody tr th:only-of-type {\n",
       "        vertical-align: middle;\n",
       "    }\n",
       "\n",
       "    .dataframe tbody tr th {\n",
       "        vertical-align: top;\n",
       "    }\n",
       "\n",
       "    .dataframe thead th {\n",
       "        text-align: right;\n",
       "    }\n",
       "</style>\n",
       "<table border=\"1\" class=\"dataframe\">\n",
       "  <thead>\n",
       "    <tr style=\"text-align: right;\">\n",
       "      <th></th>\n",
       "      <th>Time</th>\n",
       "      <th>1</th>\n",
       "      <th>2</th>\n",
       "      <th>benchmark</th>\n",
       "    </tr>\n",
       "  </thead>\n",
       "  <tbody>\n",
       "    <tr>\n",
       "      <th>0</th>\n",
       "      <td>1</td>\n",
       "      <td>67.1</td>\n",
       "      <td>498.1</td>\n",
       "      <td>270.1</td>\n",
       "    </tr>\n",
       "    <tr>\n",
       "      <th>1</th>\n",
       "      <td>2</td>\n",
       "      <td>69.7</td>\n",
       "      <td>498.1</td>\n",
       "      <td>270.0</td>\n",
       "    </tr>\n",
       "    <tr>\n",
       "      <th>2</th>\n",
       "      <td>3</td>\n",
       "      <td>70.9</td>\n",
       "      <td>498.1</td>\n",
       "      <td>269.9</td>\n",
       "    </tr>\n",
       "    <tr>\n",
       "      <th>3</th>\n",
       "      <td>4</td>\n",
       "      <td>72.6</td>\n",
       "      <td>498.0</td>\n",
       "      <td>270.1</td>\n",
       "    </tr>\n",
       "    <tr>\n",
       "      <th>4</th>\n",
       "      <td>5</td>\n",
       "      <td>74.6</td>\n",
       "      <td>498.1</td>\n",
       "      <td>270.0</td>\n",
       "    </tr>\n",
       "  </tbody>\n",
       "</table>\n",
       "</div>"
      ],
      "text/plain": [
       "   Time     1      2  benchmark\n",
       "0     1  67.1  498.1      270.1\n",
       "1     2  69.7  498.1      270.0\n",
       "2     3  70.9  498.1      269.9\n",
       "3     4  72.6  498.0      270.1\n",
       "4     5  74.6  498.1      270.0"
      ]
     },
     "execution_count": 5,
     "metadata": {},
     "output_type": "execute_result"
    }
   ],
   "source": [
    "test = load_benchmark_data()\n",
    "test.head()"
   ]
  },
  {
   "cell_type": "code",
   "execution_count": 6,
   "metadata": {},
   "outputs": [
    {
     "name": "stdout",
     "output_type": "stream",
     "text": [
      "(26, ' test, ', 108, 'train. ')\n"
     ]
    }
   ],
   "source": [
    "def split_train_test(data, test_ratio):\n",
    "    #np.random.seed(42) #用來固定每一次的random結果\n",
    "    shuffled_indices = np.random.permutation(len(data))\n",
    "    #random 隨機 permutation 排列所有134筆資料的shuffled_indices[134]陣列index\n",
    "    #print(shuffled_indices, \"shuffled_indices\")\n",
    "    test_set_size = int(len(data) * test_ratio)\n",
    "    test_indices = shuffled_indices[:test_set_size]\n",
    "    train_indices = shuffled_indices[test_set_size:]\n",
    "    return data.iloc[train_indices], data.iloc[test_indices]\n",
    "    #iloc為先列後行 [4,3]=270.0 也可以用loc[4,benchmark]=270.0\n",
    "train_set, test_set = split_train_test(test, 0.2)\n",
    "print(len(test_set),\" test, \", len(train_set), \"train. \")"
   ]
  },
  {
   "cell_type": "code",
   "execution_count": 7,
   "metadata": {},
   "outputs": [],
   "source": [
    "def test_set_check(identifier, test_ratio, hash):\n",
    "    return hash(np.int64(identifier)).digest()[-1]<256*test_ratio\n",
    "def split_train_test_by_id(data, test_ratio, id_column, hash = hashlib.md5):\n",
    "    ids = data[id_column]\n",
    "    in_test_set = ids.apply(lambda id_: test_set_check(id_, test_ratio, hash))\n",
    "    return data.loc[~in_test_set], data.loc[in_test_set]"
   ]
  },
  {
   "cell_type": "code",
   "execution_count": 8,
   "metadata": {},
   "outputs": [
    {
     "name": "stdout",
     "output_type": "stream",
     "text": [
      "('train_set: ', 107, ', test_set: ', 27)\n",
      "     Time       1       2  benchmark\n",
      "95     96   497.8   498.0      487.5\n",
      "68     69  1196.8  1092.1     1674.2\n",
      "26     27   646.3  1027.9     1471.5\n",
      "8       9    83.0   497.8      270.2\n",
      "100   101   465.3   497.8      453.5\n",
      "43     44  1151.4  1068.0     1700.9\n",
      "63     64  1195.9  1096.3     1675.5\n",
      "48     49  1192.1  1110.4     1688.1\n",
      "45     46  1186.1  1103.1     1707.5\n",
      "113   114   417.0   497.7      402.7\n",
      "52     53  1193.6  1107.2     1681.2\n",
      "124   125   394.1   530.3      377.6\n",
      "112   113   419.5   497.6      405.4\n",
      "50     51  1192.6  1109.1     1685.0\n",
      "22     23   526.3   987.1     1398.1\n",
      "93     94   515.3   497.9      504.0\n",
      "97     98   483.2   497.7      472.5\n",
      "90     91   548.1   498.0      538.2\n",
      "7       8    81.8   498.1      270.1\n",
      "24     25   586.7  1009.0     1437.2\n",
      "44     45  1173.9  1090.1     1714.3\n",
      "10     11   100.6   696.5      409.7\n",
      "111   112   422.3   497.6      408.4\n",
      "60     61  1195.5  1098.9     1676.8\n",
      "16     17   347.9   904.2     1262.1\n",
      "2       3    70.9   498.1      269.9\n",
      "130   131   384.8   539.2      367.3\n"
     ]
    }
   ],
   "source": [
    "from sklearn.model_selection import train_test_split\n",
    "train_set, test_set = train_test_split(test, test_size=0.2, random_state=0)\n",
    "# random_state不填寫會造成每次選的資料隨機\n",
    "# print(train_set, \"train_set\")\n",
    "# print(test_set, \"test_set\")\n",
    "print(\"train_set: \", len(train_set),\", test_set: \", len(test_set))\n",
    "print(test_set)"
   ]
  },
  {
   "cell_type": "code",
   "execution_count": 9,
   "metadata": {},
   "outputs": [
    {
     "name": "stdout",
     "output_type": "stream",
     "text": [
      "\n",
      "train_set_input\n",
      "          1       2\n",
      "59   1195.2  1100.1\n",
      "73   1197.4  1087.9\n",
      "33    849.8   741.2\n",
      "30    759.7  1005.1\n",
      "106   438.6   497.9\n",
      "105   442.4   497.8\n",
      "131   383.3   539.2\n",
      "83    673.7   498.1\n",
      "128   387.6   537.8\n",
      "13    261.5   838.2\n",
      "66   1196.6  1094.3\n",
      "85    628.1   498.0\n",
      "62   1195.9  1097.6\n",
      "51   1193.1  1108.1\n",
      "15    321.0   884.8\n",
      "56   1194.6  1102.8\n",
      "40   1068.9   994.5\n",
      "110   425.1   497.7\n",
      "54   1194.5  1105.0\n",
      "3      72.6   498.0\n",
      "98    476.8   497.8\n",
      "6      79.6   498.0\n",
      "109   428.4   497.7\n",
      "61   1195.8  1097.9\n",
      "107   435.2   497.8\n",
      "71   1197.2  1089.9\n",
      "121   399.6   525.3\n",
      "76    993.2   932.4\n",
      "118   405.2   516.6\n",
      "94    506.3   498.0\n",
      "..      ...     ...\n",
      "79    809.1   720.0\n",
      "69   1196.7  1091.4\n",
      "80    767.4   661.7\n",
      "20    466.8   961.1\n",
      "129   386.3   538.8\n",
      "72   1197.3  1089.0\n",
      "77    919.3   853.2\n",
      "25    616.8  1018.9\n",
      "37    990.7   918.1\n",
      "81    731.6   606.4\n",
      "122   397.6   527.8\n",
      "46   1191.2  1109.2\n",
      "125   392.4   533.3\n",
      "39   1042.7   969.5\n",
      "102   455.1   497.8\n",
      "65   1196.2  1094.6\n",
      "58   1194.9  1100.9\n",
      "12    243.6   852.2\n",
      "123   396.0   529.6\n",
      "88    575.6   497.9\n",
      "70   1197.2  1090.5\n",
      "87    591.4   498.1\n",
      "36    963.7   886.9\n",
      "114   414.3   503.1\n",
      "21    496.9   973.2\n",
      "9      85.4   498.2\n",
      "103   450.7   497.9\n",
      "67   1196.6  1092.6\n",
      "117   407.4   511.7\n",
      "47   1191.9  1110.5\n",
      "\n",
      "[107 rows x 2 columns]\n",
      "\n",
      "train_set_output\n",
      "59     1676.7\n",
      "73     1673.0\n",
      "33     1668.7\n",
      "30     1554.4\n",
      "106     425.6\n",
      "105     429.3\n",
      "131     365.7\n",
      "83      663.7\n",
      "128     370.7\n",
      "13     1154.1\n",
      "66     1675.3\n",
      "85      614.9\n",
      "62     1675.3\n",
      "51     1683.2\n",
      "15     1245.0\n",
      "56     1675.2\n",
      "40     1636.1\n",
      "110     411.4\n",
      "54     1677.4\n",
      "3       270.1\n",
      "98      465.8\n",
      "6       270.2\n",
      "109     414.5\n",
      "61     1675.7\n",
      "107     421.6\n",
      "71     1673.3\n",
      "121     383.4\n",
      "76     1104.9\n",
      "118     389.9\n",
      "94      494.4\n",
      "        ...  \n",
      "79      820.9\n",
      "69     1673.3\n",
      "80      782.4\n",
      "20     1356.4\n",
      "129     368.9\n",
      "72     1672.7\n",
      "77      976.8\n",
      "25     1454.9\n",
      "37     1594.9\n",
      "81      742.7\n",
      "122     381.5\n",
      "46     1702.9\n",
      "125     375.9\n",
      "39     1617.8\n",
      "102     443.0\n",
      "65     1675.5\n",
      "58     1676.7\n",
      "12      518.3\n",
      "123     379.4\n",
      "88      564.5\n",
      "70     1673.7\n",
      "87      580.0\n",
      "36     1596.1\n",
      "114     399.9\n",
      "21     1378.7\n",
      "9       270.0\n",
      "103     438.1\n",
      "67     1674.2\n",
      "117     392.2\n",
      "47     1690.9\n",
      "Name: benchmark, Length: 107, dtype: float64\n",
      "\n",
      "test_set_input\n",
      "          1       2\n",
      "95    497.8   498.0\n",
      "68   1196.8  1092.1\n",
      "26    646.3  1027.9\n",
      "8      83.0   497.8\n",
      "100   465.3   497.8\n",
      "43   1151.4  1068.0\n",
      "63   1195.9  1096.3\n",
      "48   1192.1  1110.4\n",
      "45   1186.1  1103.1\n",
      "113   417.0   497.7\n",
      "52   1193.6  1107.2\n",
      "124   394.1   530.3\n",
      "112   419.5   497.6\n",
      "50   1192.6  1109.1\n",
      "22    526.3   987.1\n",
      "93    515.3   497.9\n",
      "97    483.2   497.7\n",
      "90    548.1   498.0\n",
      "7      81.8   498.1\n",
      "24    586.7  1009.0\n",
      "44   1173.9  1090.1\n",
      "10    100.6   696.5\n",
      "111   422.3   497.6\n",
      "60   1195.5  1098.9\n",
      "16    347.9   904.2\n",
      "2      70.9   498.1\n",
      "130   384.8   539.2\n",
      "\n",
      "train_set_ground_truth\n",
      "95      487.5\n",
      "68     1674.2\n",
      "26     1471.5\n",
      "8       270.2\n",
      "100     453.5\n",
      "43     1700.9\n",
      "63     1675.5\n",
      "48     1688.1\n",
      "45     1707.5\n",
      "113     402.7\n",
      "52     1681.2\n",
      "124     377.6\n",
      "112     405.4\n",
      "50     1685.0\n",
      "22     1398.1\n",
      "93      504.0\n",
      "97      472.5\n",
      "90      538.2\n",
      "7       270.1\n",
      "24     1437.2\n",
      "44     1714.3\n",
      "10      409.7\n",
      "111     408.4\n",
      "60     1676.8\n",
      "16     1262.1\n",
      "2       269.9\n",
      "130     367.3\n",
      "Name: benchmark, dtype: float64\n",
      "\n",
      "end\n"
     ]
    }
   ],
   "source": [
    "train_set_output = train_set['benchmark'].copy()\n",
    "train_set_input = train_set.drop(['Time','benchmark'],axis=1)\n",
    "test_set_ground_truth = test_set['benchmark'].copy()\n",
    "test_set_input = test_set.drop(['Time','benchmark'],axis=1)\n",
    "print '\\ntrain_set_input'\n",
    "print train_set_input\n",
    "print '\\ntrain_set_output'\n",
    "print train_set_output\n",
    "print '\\ntest_set_input'\n",
    "print test_set_input\n",
    "print '\\ntrain_set_ground_truth'\n",
    "print test_set_ground_truth\n",
    "print '\\nend'"
   ]
  },
  {
   "cell_type": "code",
   "execution_count": 10,
   "metadata": {},
   "outputs": [
    {
     "name": "stdout",
     "output_type": "stream",
     "text": [
      "[ 469.47583021 1754.61232257 1415.76725045  294.50280607  455.45909046\n",
      " 1695.30387619 1761.23818437 1783.15435416 1768.45325305  434.95700122\n",
      " 1778.44890979  479.68606283  435.84277294 1781.19671823 1297.19830414\n",
      "  476.67691521  462.82858381  490.65318073  294.49792248 1359.152893\n",
      " 1741.63533449  633.30560814  437.02163142 1765.40606877 1083.82715166\n",
      "  289.90879484  490.61403225]\n",
      "LinearRegression RMSE: 83.55481228814702\n"
     ]
    }
   ],
   "source": [
    "%%time\n",
    "from sklearn.linear_model import LinearRegression\n",
    "from sklearn.metrics import mean_squared_error\n",
    "lin_reg = LinearRegression()\n",
    "lin_reg.fit(train_set_input,train_set_output)\n",
    "lin_reg_predictions = lin_reg.predict(test_set_input)\n",
    "print(lin_reg_predictions)\n",
    "lin_mse = mean_squared_error(test_set_ground_truth,lin_reg_predictions)\n",
    "lin_rmse = np.sqrt(lin_mse)\n",
    "print 'LinearRegression RMSE:', lin_rmse"
   ]
  },
  {
   "cell_type": "code",
   "execution_count": 17,
   "metadata": {},
   "outputs": [
    {
     "name": "stdout",
     "output_type": "stream",
     "text": [
      "[ 482.2  1673.66 1493.08  270.17  452.2  1679.1  1675.76 1691.55 1679.71\n",
      "  404.37 1684.13  377.65  405.77 1686.31 1383.87  495.21  467.34  538.62\n",
      "  270.05 1474.37 1678.9   270.04  414.31 1676.16 1261.51  270.02  365.91]\n",
      "RandomForestRegressor RMSE: 29.970584776608042\n"
     ]
    }
   ],
   "source": [
    "%%time\n",
    "from sklearn.ensemble import RandomForestRegressor\n",
    "forest_reg = RandomForestRegressor()\n",
    "forest_reg.fit(train_set_input,train_set_output)\n",
    "forest_reg_predictions = forest_reg.predict(test_set_input)\n",
    "print(forest_reg_predictions)\n",
    "forest_reg_mse = mean_squared_error(test_set_ground_truth,forest_reg_predictions)\n",
    "forest_reg_rmse = np.sqrt(forest_reg_mse)\n",
    "print 'RandomForestRegressor RMSE:', forest_reg_rmse"
   ]
  },
  {
   "cell_type": "code",
   "execution_count": 16,
   "metadata": {},
   "outputs": [
    {
     "data": {
      "text/plain": [
       "array([ 485.14, 1673.57, 1484.84,  270.15,  452.56, 1681.08, 1675.64,\n",
       "       1690.41, 1680.68,  382.93, 1682.43,  377.69,  397.41, 1688.6 ,\n",
       "       1410.12,  501.53,  472.91,  530.39,  270.09, 1471.2 , 1680.94,\n",
       "        336.72,  413.34, 1676.36, 1272.97,  270.  ,  366.98])"
      ]
     },
     "execution_count": 16,
     "metadata": {},
     "output_type": "execute_result"
    }
   ],
   "source": [
    "#Save model\n",
    "from sklearn.externals import joblib\n",
    "joblib.dump(forest_reg, \"forest_reg_model.pkl\")\n",
    "#Load model\n",
    "forest_reg_model = joblib.load(\"forest_reg_model.pkl\")\n",
    "forest_reg_model.predict(test_set_input)\n"
   ]
  },
  {
   "cell_type": "code",
   "execution_count": 23,
   "metadata": {},
   "outputs": [
    {
     "name": "stdout",
     "output_type": "stream",
     "text": [
      "[ 833.31796818 1376.81639417  833.75        746.25027137  822.70743801\n",
      "  833.75       1303.05297429 1179.20583133  834.41955849  830.99051639\n",
      " 1230.08191091  709.11800851  829.04714586 1231.55598159  833.75\n",
      "  833.71514097  831.44164495  833.74990686  740.80734774  833.75\n",
      "  833.75        833.75        785.69936267 1281.0309802   833.75\n",
      "  615.83646775  586.90743052]\n",
      "y_rbf RMSE: 494.6453505976257\n",
      "[ 437.10754116 1709.05527138 1419.20501094  303.65929636  426.32668084\n",
      " 1651.98892792 1716.17295413 1739.81821482 1725.01987557  410.65246925\n",
      " 1734.65649556  460.79287936  411.27829194 1737.68617134 1308.75249504\n",
      "  442.54636611  431.8938526   453.24714211  303.80328925 1366.75226488\n",
      " 1698.18053408  659.70278943  412.17671907 1720.62956082 1105.32038294\n",
      "  300.30584087  473.5034656 ]\n",
      "y_lin RMSE: 76.06814340833682\n",
      "[819.16093912 830.70873059 820.99623583 817.74557195 817.44215474\n",
      " 820.94277346 831.22288752 829.37317088 829.75693172 816.19791809\n",
      " 830.25203193 814.29902151 816.08777866 829.74909145 820.95844659\n",
      " 819.38207198 818.61545869 819.56513464 817.66536408 820.96876928\n",
      " 825.29738245 820.77133202 815.97482875 831.29192016 820.93149173\n",
      " 817.51730137 815.37219369]\n",
      "y_poly RMSE: 623.7420295532003\n"
     ]
    }
   ],
   "source": [
    "from sklearn.svm import SVR\n",
    "svr_rbf = SVR(kernel='rbf', C=100, gamma=0.1, epsilon=.1)\n",
    "svr_lin = SVR(kernel='linear', C=100, gamma='auto')\n",
    "svr_poly = SVR( kernel='rbf',C=0.5, cache_size=200, coef0=0.0,\n",
    "               degree=3, epsilon=0.2, gamma='scale', max_iter=1000, \n",
    "               shrinking=True, tol=0.1)\n",
    "X=train_set_input\n",
    "y=train_set_output\n",
    "_X=test_set_input\n",
    "y_rbf = svr_rbf.fit(X, y).predict(_X)\n",
    "y_lin = svr_lin.fit(X, y).predict(_X)\n",
    "y_poly = svr_poly.fit(X, y).predict(_X)\n",
    "print(y_rbf)\n",
    "y_rbf_mse = mean_squared_error(test_set_ground_truth,y_rbf)\n",
    "y_rbf_rmse = np.sqrt(y_rbf_mse)\n",
    "print 'y_rbf RMSE:', y_rbf_rmse\n",
    "print(y_lin)\n",
    "y_lin_mse = mean_squared_error(test_set_ground_truth,y_lin)\n",
    "y_lin_rmse = np.sqrt(y_lin_mse)\n",
    "print 'y_lin RMSE:', y_lin_rmse\n",
    "print(y_poly)\n",
    "y_poly_mse = mean_squared_error(test_set_ground_truth,y_poly)\n",
    "y_poly_rmse = np.sqrt(y_poly_mse)\n",
    "print 'y_poly RMSE:', y_poly_rmse"
   ]
  },
  {
   "cell_type": "code",
   "execution_count": null,
   "metadata": {},
   "outputs": [],
   "source": [
    "#------this is a split line----------------------------------"
   ]
  },
  {
   "cell_type": "code",
   "execution_count": 22,
   "metadata": {},
   "outputs": [
    {
     "data": {
      "image/png": "[encoded data removed]",
      "text/plain": [
       "<Figure size 432x288 with 1 Axes>"
      ]
     },
     "metadata": {
      "needs_background": "light"
     },
     "output_type": "display_data"
    }
   ],
   "source": [
    "#LungChing SalaryFlow\n",
    "import numpy as np\n",
    "import matplotlib.pyplot as plt\n",
    "\n",
    "# evenly sampled time at 0.1 intervals\n",
    "t = np.arange(0, 10, 0.1)\n",
    "\n",
    "# red dashes\n",
    "plt.plot(t, (36000)+3*2000*t, 'r--') #每一年加三次每次加2000元\n",
    "plt.xlabel('Years')\n",
    "plt.ylabel('NT dollars')\n",
    "plt.title('SalaryFlow of LungChing')\n",
    "plt.axis([0, 10, 30000, 90000])\n",
    "plt.grid(True)\n",
    "plt.show()"
   ]
  },
  {
   "cell_type": "code",
   "execution_count": null,
   "metadata": {},
   "outputs": [],
   "source": [
    "#Fine tune forest_reg_model via Grid Search\n",
    "from sklearn.model_selection import GridSearchCV\n",
    "param_grid = [\n",
    "    {'n_estimators':[3,10,30], 'max_features':[2,4,6,8]},\n",
    "    {'bootstrap':[False], 'n_estimators':[3,10], 'max_features':[2,3,4]},\n",
    "]\n",
    "_forest_reg = RandomForestRegressor()\n",
    "grid_search = GridSearchCV(_forest_reg, param_grid, cv=5,\n",
    "                          scoring='neg_mean_squared_error')\n",
    "grid_search.fit(train_set_input,train_set_output)\n",
    "print(grid_search.best_params_)\n",
    "grid_search_predictions = grid_search.predict(test_set_input)\n",
    "print(grid_search_predictions)\n",
    "grid_search_mse = mean_squared_error(test_set_ground_truth,grid_search_predictions)\n",
    "grid_search_rmse = np.sqrt(grid_search_mse)\n",
    "print 'Grid Search RandomForestRegressor RMSE:', grid_search_rmse"
   ]
  },
  {
   "cell_type": "code",
   "execution_count": null,
   "metadata": {},
   "outputs": [],
   "source": [
    "#feed a Pandas DataFrame directly into a NumPy array.\n",
    "from sklearn.base import BaseEstimator, TransformerMixin\n",
    "class DataFrameSelector(BaseEstimator, TransformerMixin):\n",
    "    def __init__(self, attribute_names):\n",
    "        self.attribute_names=attribute_names\n",
    "    def fit(self, X, y=None):\n",
    "        return self\n",
    "    def transform(self, X):\n",
    "        return X[self.attribute_names].values\n"
   ]
  },
  {
   "cell_type": "code",
   "execution_count": null,
   "metadata": {},
   "outputs": [],
   "source": [
    "# Data preprocessing by pipelines\n",
    "from sklearn.pipeline import Pipeline\n",
    "from sklearn.preprocessing import StandardScaler #正規化到[0-1]\n",
    "num_pipeline = Pipeline([\n",
    "    ('imputer', Imputer(strategy=\"median\")), #如果data沒值自動填入平均值\n",
    "    ('std_scaler', StandardScaler()),\n",
    "])\n",
    "cat_pipeline = Pipeline([\n",
    "    ('selector')\n",
    "])\n"
   ]
  },
  {
   "cell_type": "code",
   "execution_count": null,
   "metadata": {},
   "outputs": [],
   "source": [
    "test.info()"
   ]
  },
  {
   "cell_type": "code",
   "execution_count": null,
   "metadata": {},
   "outputs": [],
   "source": [
    "test[\"benchmark\"].value_counts()"
   ]
  },
  {
   "cell_type": "code",
   "execution_count": null,
   "metadata": {},
   "outputs": [],
   "source": [
    "test.describe()"
   ]
  },
  {
   "cell_type": "code",
   "execution_count": null,
   "metadata": {},
   "outputs": [],
   "source": [
    "%matplotlib inline \n",
    "import matplotlib.pyplot as plt\n",
    "test.hist(bins=50, figsize=(20,15))\n",
    "plt.show"
   ]
  },
  {
   "cell_type": "code",
   "execution_count": null,
   "metadata": {},
   "outputs": [],
   "source": [
    "test.plot(kind=\"scatter\", x=\"1\", y=\"2\")"
   ]
  },
  {
   "cell_type": "code",
   "execution_count": null,
   "metadata": {},
   "outputs": [],
   "source": [
    "test.plot(kind=\"scatter\", x=\"1\", y=\"2\",alpha=0.1)"
   ]
  },
  {
   "cell_type": "code",
   "execution_count": null,
   "metadata": {},
   "outputs": [],
   "source": [
    "test.plot(kind=\"scatter\", x=\"1\", y=\"2\",alpha=0.1,\n",
    "        s=test[\"benchmark\"], label=\"benchmark\", figsize=(10,7),\n",
    "         c=\"benchmark\", cmap=plt.get_cmap(\"jet\"), colorbar=True)\n",
    "plt.legend(loc=\"upper left\")\n",
    "plt.show()"
   ]
  },
  {
   "cell_type": "code",
   "execution_count": null,
   "metadata": {},
   "outputs": [],
   "source": [
    "from pandas.tools.plotting import scatter_matrix\n",
    "attributes = [\"1\",\"2\",\"benchmark\"]\n",
    "scatter_matrix(test[attributes], figsize=(12,8))"
   ]
  }
 ],
 "metadata": {
  "kernelspec": {
   "display_name": "Python 3",
   "language": "python",
   "name": "python3"
  },
  "language_info": {
   "codemirror_mode": {
    "name": "ipython",
    "version": 3
   },
   "file_extension": ".py",
   "mimetype": "text/x-python",
   "name": "python",
   "nbconvert_exporter": "python",
   "pygments_lexer": "ipython3",
   "version": "3.7.3"
  }
 },
 "nbformat": 4,
 "nbformat_minor": 2
}
